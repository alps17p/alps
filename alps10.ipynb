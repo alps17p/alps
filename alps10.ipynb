{
  "nbformat": 4,
  "nbformat_minor": 0,
  "metadata": {
    "colab": {
      "provenance": [],
      "authorship_tag": "ABX9TyNZGMwy7S4yL/4Qm11NOLCK",
      "include_colab_link": true
    },
    "kernelspec": {
      "name": "python3",
      "display_name": "Python 3"
    },
    "language_info": {
      "name": "python"
    }
  },
  "cells": [
    {
      "cell_type": "markdown",
      "metadata": {
        "id": "view-in-github",
        "colab_type": "text"
      },
      "source": [
        "<a href=\"https://colab.research.google.com/github/alps17p/alps/blob/main/alps10.ipynb\" target=\"_parent\"><img src=\"https://colab.research.google.com/assets/colab-badge.svg\" alt=\"Open In Colab\"/></a>"
      ]
    },
    {
      "cell_type": "code",
      "execution_count": 1,
      "metadata": {
        "colab": {
          "base_uri": "https://localhost:8080/"
        },
        "id": "JrzRBWHbp5LC",
        "outputId": "7bb3de4b-6459-4ee9-d72b-0c8a433b0088"
      },
      "outputs": [
        {
          "output_type": "stream",
          "name": "stdout",
          "text": [
            "John Doe\n"
          ]
        }
      ],
      "source": [
        "name = \"John Doe\"\n",
        "print(name)"
      ]
    },
    {
      "cell_type": "code",
      "source": [
        "# Index starts from 0 to n-1....0-7\n",
        "# 0 = J\n",
        "# 1 = o\n",
        "# 2 = h\n",
        "# 3 = n ... and so on\n",
        "print(name[5])"
      ],
      "metadata": {
        "colab": {
          "base_uri": "https://localhost:8080/"
        },
        "id": "1tNoaEGzq-tB",
        "outputId": "51b22199-89bc-4575-a0d0-4cd18c5f0754"
      },
      "execution_count": 5,
      "outputs": [
        {
          "output_type": "stream",
          "name": "stdout",
          "text": [
            "D\n"
          ]
        }
      ]
    },
    {
      "cell_type": "code",
      "source": [
        "for i in \"Hello\":\n",
        "  print(i)"
      ],
      "metadata": {
        "colab": {
          "base_uri": "https://localhost:8080/"
        },
        "id": "7pNJaMwXtV0Q",
        "outputId": "f78d4370-87a7-484c-ebe5-21b1f54c5438"
      },
      "execution_count": 3,
      "outputs": [
        {
          "output_type": "stream",
          "name": "stdout",
          "text": [
            "H\n",
            "e\n",
            "l\n",
            "l\n",
            "o\n"
          ]
        }
      ]
    },
    {
      "cell_type": "code",
      "source": [
        "pan = \"AXATBNY874\"\n",
        "print(len(pan))"
      ],
      "metadata": {
        "colab": {
          "base_uri": "https://localhost:8080/"
        },
        "id": "qMUap9T9t3rK",
        "outputId": "f13b114c-de07-4b49-c6a8-7999ac7410fb"
      },
      "execution_count": 6,
      "outputs": [
        {
          "output_type": "stream",
          "name": "stdout",
          "text": [
            "10\n"
          ]
        }
      ]
    },
    {
      "cell_type": "code",
      "source": [
        "tw = \"Indian economy growth is not as expected\"\n",
        "print(\"not\" in tw)"
      ],
      "metadata": {
        "colab": {
          "base_uri": "https://localhost:8080/"
        },
        "id": "nC_Q153GxNBb",
        "outputId": "0310717f-c239-468e-a207-e3861bd7b1f8"
      },
      "execution_count": 7,
      "outputs": [
        {
          "output_type": "stream",
          "name": "stdout",
          "text": [
            "True\n"
          ]
        }
      ]
    },
    {
      "cell_type": "code",
      "source": [
        "tw = \"Indian economy growth is not as expected\"\n",
        "if \"is\" in tw :\n",
        "  print(\"Data is there in tw\")"
      ],
      "metadata": {
        "colab": {
          "base_uri": "https://localhost:8080/"
        },
        "id": "FF39RwSfzCcc",
        "outputId": "58e82475-9752-4a61-8bae-5c25cfd19958"
      },
      "execution_count": 8,
      "outputs": [
        {
          "output_type": "stream",
          "name": "stdout",
          "text": [
            "Data is there in tw\n"
          ]
        }
      ]
    },
    {
      "cell_type": "code",
      "source": [
        "tw = \"Indian economy growth is not as expected\"\n",
        "if \"notttt\" not in tw:\n",
        "  print(\"notttt is not in tw\")"
      ],
      "metadata": {
        "colab": {
          "base_uri": "https://localhost:8080/"
        },
        "id": "QUcEsrcS_hiV",
        "outputId": "fc78f6b2-8b81-4bc3-c43d-0f69333c9a5f"
      },
      "execution_count": 13,
      "outputs": [
        {
          "output_type": "stream",
          "name": "stdout",
          "text": [
            "notttt is not in tw\n"
          ]
        }
      ]
    }
  ]
}