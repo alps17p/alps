{
  "nbformat": 4,
  "nbformat_minor": 0,
  "metadata": {
    "colab": {
      "provenance": [],
      "authorship_tag": "ABX9TyNNPefKcuh+mRGD1ycvZQdV",
      "include_colab_link": true
    },
    "kernelspec": {
      "name": "python3",
      "display_name": "Python 3"
    },
    "language_info": {
      "name": "python"
    }
  },
  "cells": [
    {
      "cell_type": "markdown",
      "metadata": {
        "id": "view-in-github",
        "colab_type": "text"
      },
      "source": [
        "<a href=\"https://colab.research.google.com/github/alps17p/alps/blob/main/alps11.ipynb\" target=\"_parent\"><img src=\"https://colab.research.google.com/assets/colab-badge.svg\" alt=\"Open In Colab\"/></a>"
      ]
    },
    {
      "cell_type": "code",
      "execution_count": 2,
      "metadata": {
        "colab": {
          "base_uri": "https://localhost:8080/"
        },
        "id": "sRP1-7nCKlYm",
        "outputId": "0f1ddf8b-dc23-487f-e7c6-e96de5110d1e"
      },
      "outputs": [
        {
          "output_type": "stream",
          "name": "stdout",
          "text": [
            "h\n"
          ]
        }
      ],
      "source": [
        "name = \"John Doe\"\n",
        "print(name[2])"
      ]
    },
    {
      "cell_type": "code",
      "source": [
        "# Slicing\n",
        "# string name[start:end]\n",
        "# start is inclusive\n",
        "# end is exculsive\n",
        "print(name[0:4])\n",
        "print(name[0:6])"
      ],
      "metadata": {
        "colab": {
          "base_uri": "https://localhost:8080/"
        },
        "id": "6niIvLx_L3AD",
        "outputId": "7a4a75bd-b919-465d-e4df-351166d9d633"
      },
      "execution_count": 6,
      "outputs": [
        {
          "output_type": "stream",
          "name": "stdout",
          "text": [
            "John\n",
            "John D\n"
          ]
        }
      ]
    },
    {
      "cell_type": "code",
      "source": [
        "print(name[:4])"
      ],
      "metadata": {
        "colab": {
          "base_uri": "https://localhost:8080/"
        },
        "id": "CpTgJvBWR6qh",
        "outputId": "452cf6ba-4ed2-4caf-d83f-c8200f88c18b"
      },
      "execution_count": 7,
      "outputs": [
        {
          "output_type": "stream",
          "name": "stdout",
          "text": [
            "John\n"
          ]
        }
      ]
    },
    {
      "cell_type": "code",
      "source": [
        "print(name[5:])"
      ],
      "metadata": {
        "colab": {
          "base_uri": "https://localhost:8080/"
        },
        "id": "wsU4LLZXSowB",
        "outputId": "680f9bd9-370c-45b4-b723-af250bd7b453"
      },
      "execution_count": 8,
      "outputs": [
        {
          "output_type": "stream",
          "name": "stdout",
          "text": [
            "Doe\n"
          ]
        }
      ]
    },
    {
      "cell_type": "code",
      "source": [
        "print(name[-3:])"
      ],
      "metadata": {
        "colab": {
          "base_uri": "https://localhost:8080/"
        },
        "id": "BODEqA34TFZE",
        "outputId": "7a7e5d50-a53b-4f04-b001-60d5136c38f7"
      },
      "execution_count": 9,
      "outputs": [
        {
          "output_type": "stream",
          "name": "stdout",
          "text": [
            "Doe\n"
          ]
        }
      ]
    },
    {
      "cell_type": "code",
      "source": [
        "print(name[-7:-4])"
      ],
      "metadata": {
        "colab": {
          "base_uri": "https://localhost:8080/"
        },
        "id": "AQMpZD9VTKQ2",
        "outputId": "b8ffa75e-62c5-4651-be4f-518c7b6a2c60"
      },
      "execution_count": 10,
      "outputs": [
        {
          "output_type": "stream",
          "name": "stdout",
          "text": [
            "ohn\n"
          ]
        }
      ]
    },
    {
      "cell_type": "code",
      "source": [
        "name = \"john DOe\"\n",
        "print(name.upper())\n",
        "print(name.lower())"
      ],
      "metadata": {
        "colab": {
          "base_uri": "https://localhost:8080/"
        },
        "id": "tgjbxGX6U6ZZ",
        "outputId": "5a13a587-f4ef-4323-c3bd-aa550bc18055"
      },
      "execution_count": 12,
      "outputs": [
        {
          "output_type": "stream",
          "name": "stdout",
          "text": [
            "JOHN DOE\n",
            "john doe\n"
          ]
        }
      ]
    },
    {
      "cell_type": "code",
      "source": [
        "name = \"john doe\" # what,by\n",
        "print(name.replace(\"j\",\"t\"))"
      ],
      "metadata": {
        "colab": {
          "base_uri": "https://localhost:8080/"
        },
        "id": "zACexG3vYBKd",
        "outputId": "84d3c550-260d-4175-fe2e-414d62fac552"
      },
      "execution_count": 15,
      "outputs": [
        {
          "output_type": "stream",
          "name": "stdout",
          "text": [
            "tohn doe\n"
          ]
        }
      ]
    },
    {
      "cell_type": "code",
      "source": [
        "print(name.split(\" \"))"
      ],
      "metadata": {
        "colab": {
          "base_uri": "https://localhost:8080/"
        },
        "id": "wo1PdRt5a6X6",
        "outputId": "171cc2c5-5115-4162-cb07-a5c4607fe08c"
      },
      "execution_count": 16,
      "outputs": [
        {
          "output_type": "stream",
          "name": "stdout",
          "text": [
            "['john', 'doe']\n"
          ]
        }
      ]
    },
    {
      "cell_type": "code",
      "source": [
        "# price 1000  currency = USD\n",
        "n1 = \"john\"\n",
        "n2 = \"doe\"\n",
        "\n",
        "name = n1 + \" \"+ n2\n",
        "print(name)"
      ],
      "metadata": {
        "colab": {
          "base_uri": "https://localhost:8080/"
        },
        "id": "d9udc888dx5r",
        "outputId": "3d23e95e-b24b-4961-9619-3ce201840297"
      },
      "execution_count": 17,
      "outputs": [
        {
          "output_type": "stream",
          "name": "stdout",
          "text": [
            "john doe\n"
          ]
        }
      ]
    }
  ]
}