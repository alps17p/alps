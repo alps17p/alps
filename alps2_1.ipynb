{
  "nbformat": 4,
  "nbformat_minor": 0,
  "metadata": {
    "colab": {
      "provenance": [],
      "authorship_tag": "ABX9TyNd4rnJtvaCIZAWw1gWElk0",
      "include_colab_link": true
    },
    "kernelspec": {
      "name": "python3",
      "display_name": "Python 3"
    },
    "language_info": {
      "name": "python"
    }
  },
  "cells": [
    {
      "cell_type": "markdown",
      "metadata": {
        "id": "view-in-github",
        "colab_type": "text"
      },
      "source": [
        "<a href=\"https://colab.research.google.com/github/alps17p/alps/blob/main/alps2_1.ipynb\" target=\"_parent\"><img src=\"https://colab.research.google.com/assets/colab-badge.svg\" alt=\"Open In Colab\"/></a>"
      ]
    },
    {
      "cell_type": "code",
      "execution_count": 3,
      "metadata": {
        "colab": {
          "base_uri": "https://localhost:8080/"
        },
        "id": "JiS0yd3ROWmp",
        "outputId": "d7efe370-da29-4728-b478-db3701097244"
      },
      "outputs": [
        {
          "output_type": "stream",
          "name": "stdout",
          "text": [
            "['apple', 'banana', 'cherries']\n",
            "------------------------------\n",
            "['apple', 'Mangoes', 'cherries']\n"
          ]
        }
      ],
      "source": [
        "list1 = [\"apple\",\"banana\",\"cherries\"]\n",
        "print(list1)\n",
        "print(\"------------------------------\")\n",
        "list1[1] = \"Mangoes\"\n",
        "print(list1)"
      ]
    },
    {
      "cell_type": "code",
      "source": [
        "list1 = [\"Apple\",\"banana\",\"cherries\",\"Grapes\", \"Almonds\"]\n",
        "print(list1)\n",
        "print(\"------------------------------------------------\")\n",
        "list1[1:3] = [\"Mangoes\",\"Blue berries\"]\n",
        "print(list1)"
      ],
      "metadata": {
        "colab": {
          "base_uri": "https://localhost:8080/"
        },
        "id": "-XI4jjXNURXn",
        "outputId": "888bde67-5aa3-413e-c26c-5408616cf94a"
      },
      "execution_count": 4,
      "outputs": [
        {
          "output_type": "stream",
          "name": "stdout",
          "text": [
            "['Apple', 'banana', 'cherries', 'Grapes', 'Almonds']\n",
            "------------------------------------------------\n",
            "['Apple', 'Mangoes', 'Blue berries', 'Grapes', 'Almonds']\n"
          ]
        }
      ]
    },
    {
      "cell_type": "code",
      "source": [
        "list1 = [\"Apple\",\"banana\"]\n",
        "print(list1)\n",
        "print(\"---------------------------\")\n",
        "list1.insert(1,\"Mangoes\")\n",
        "print(list1)"
      ],
      "metadata": {
        "colab": {
          "base_uri": "https://localhost:8080/"
        },
        "id": "9JL022xuUR2h",
        "outputId": "f9e8b2d7-cf19-43a0-9f13-12e859832549"
      },
      "execution_count": 5,
      "outputs": [
        {
          "output_type": "stream",
          "name": "stdout",
          "text": [
            "['Apple', 'banana']\n",
            "---------------------------\n",
            "['Apple', 'Mangoes', 'banana']\n"
          ]
        }
      ]
    },
    {
      "cell_type": "code",
      "source": [
        "list1 = [\"Apple\",\"banana\"]\n",
        "print(list1)\n",
        "print(\"---------------------------\")\n",
        "list1.append(\"Orange\")\n",
        "print(list1)\n"
      ],
      "metadata": {
        "colab": {
          "base_uri": "https://localhost:8080/"
        },
        "id": "cHW_Kd6MgGLe",
        "outputId": "effd9fd7-c4b0-4ef3-a215-48f593a952ea"
      },
      "execution_count": 6,
      "outputs": [
        {
          "output_type": "stream",
          "name": "stdout",
          "text": [
            "['Apple', 'banana']\n",
            "---------------------------\n",
            "['Apple', 'banana', 'Orange']\n"
          ]
        }
      ]
    },
    {
      "cell_type": "code",
      "source": [
        "list1 = [\"Apple\",\"banana\"]\n",
        "list2 = [\"Mangoes\",\"cherries\"]\n",
        "list1.extend(list2)\n",
        "print(list1)"
      ],
      "metadata": {
        "colab": {
          "base_uri": "https://localhost:8080/"
        },
        "id": "FXuq3vQPlgVf",
        "outputId": "6223c2fa-544b-434c-b76d-ea559fdc5379"
      },
      "execution_count": 7,
      "outputs": [
        {
          "output_type": "stream",
          "name": "stdout",
          "text": [
            "['Apple', 'banana', 'Mangoes', 'cherries']\n"
          ]
        }
      ]
    },
    {
      "cell_type": "code",
      "source": [
        "list1 =[\"Apple\",\"banana\",\"Mangoes\"]\n",
        "print(list1)\n",
        "print(\"-------------------------------\")\n",
        "list1.remove(\"banana\")\n",
        "print(list1)"
      ],
      "metadata": {
        "colab": {
          "base_uri": "https://localhost:8080/"
        },
        "id": "x_q_BRIKqzSw",
        "outputId": "03547ce1-d2e2-4b36-a3f9-29ee8ee11fb8"
      },
      "execution_count": 8,
      "outputs": [
        {
          "output_type": "stream",
          "name": "stdout",
          "text": [
            "['Apple', 'banana', 'Mangoes']\n",
            "-------------------------------\n",
            "['Apple', 'Mangoes']\n"
          ]
        }
      ]
    },
    {
      "cell_type": "code",
      "source": [
        "list1 = [\"Apple\",\"banana\",\"Mangoes\"]\n",
        "print(list1)\n",
        "print(\"------------------------------\")\n",
        "list1.pop(1)\n",
        "print(list1)"
      ],
      "metadata": {
        "colab": {
          "base_uri": "https://localhost:8080/"
        },
        "id": "Kl6pfT2Hvuhz",
        "outputId": "0011cd94-9f2e-42ba-c9bf-fa7a03b4c5ff"
      },
      "execution_count": 9,
      "outputs": [
        {
          "output_type": "stream",
          "name": "stdout",
          "text": [
            "['Apple', 'banana', 'Mangoes']\n",
            "------------------------------\n",
            "['Apple', 'Mangoes']\n"
          ]
        }
      ]
    },
    {
      "cell_type": "code",
      "source": [],
      "metadata": {
        "id": "hY5LN6vUxx_g"
      },
      "execution_count": null,
      "outputs": []
    }
  ]
}