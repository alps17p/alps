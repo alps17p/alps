{
  "nbformat": 4,
  "nbformat_minor": 0,
  "metadata": {
    "colab": {
      "provenance": [],
      "authorship_tag": "ABX9TyPANkHudQv3Rh+iV6pHNMBc",
      "include_colab_link": true
    },
    "kernelspec": {
      "name": "python3",
      "display_name": "Python 3"
    },
    "language_info": {
      "name": "python"
    }
  },
  "cells": [
    {
      "cell_type": "markdown",
      "metadata": {
        "id": "view-in-github",
        "colab_type": "text"
      },
      "source": [
        "<a href=\"https://colab.research.google.com/github/alps17p/alps/blob/main/alps2_2.ipynb\" target=\"_parent\"><img src=\"https://colab.research.google.com/assets/colab-badge.svg\" alt=\"Open In Colab\"/></a>"
      ]
    },
    {
      "cell_type": "code",
      "execution_count": 1,
      "metadata": {
        "colab": {
          "base_uri": "https://localhost:8080/"
        },
        "id": "8NTZ-rcccJJI",
        "outputId": "ca10e11f-635d-44b7-be92-bf23b879e593"
      },
      "outputs": [
        {
          "output_type": "stream",
          "name": "stdout",
          "text": [
            "['Apple', 'banana', 'Mangoes', 'cherries']\n",
            "-----------------------------------------\n",
            "['Apple', 'Mangoes', 'cherries']\n"
          ]
        }
      ],
      "source": [
        "list1 = [\"Apple\",\"banana\",\"Mangoes\",\"cherries\"]\n",
        "print(list1)\n",
        "print(\"-----------------------------------------\")\n",
        "del list1[1]\n",
        "print(list1)"
      ]
    },
    {
      "cell_type": "code",
      "source": [
        "# loop in for\n",
        "list1 = [\"Apple\",\"banana\",\"Mangoes\",\"cherries\"]\n",
        "for i in list1:\n",
        "  print(i)"
      ],
      "metadata": {
        "colab": {
          "base_uri": "https://localhost:8080/"
        },
        "id": "zyy2XsRNd604",
        "outputId": "40e63a63-4b02-4a24-fe6b-80149a60c4ac"
      },
      "execution_count": 3,
      "outputs": [
        {
          "output_type": "stream",
          "name": "stdout",
          "text": [
            "Apple\n",
            "banana\n",
            "Mangoes\n",
            "cherries\n"
          ]
        }
      ]
    },
    {
      "cell_type": "code",
      "source": [
        "list1 = [\"Apple\",\"banana\",\"Mangoes\",\"cherries\"]\n",
        "for i in range(len(list1)):\n",
        "  print(list1[i])"
      ],
      "metadata": {
        "colab": {
          "base_uri": "https://localhost:8080/"
        },
        "id": "uyP3Tk_6ftBb",
        "outputId": "671533db-a80e-4acb-ac8b-3091039422fb"
      },
      "execution_count": 4,
      "outputs": [
        {
          "output_type": "stream",
          "name": "stdout",
          "text": [
            "Apple\n",
            "banana\n",
            "Mangoes\n",
            "cherries\n"
          ]
        }
      ]
    },
    {
      "cell_type": "code",
      "source": [
        "list1 = [\"Apple\",\"banana\", \"Mangoes\",\"cherries\"]\n",
        "newlist = []\n",
        "for i in list1:\n",
        "  if \"A\" in i:\n",
        "    newlist.append(i)\n",
        "    print(newlist)"
      ],
      "metadata": {
        "colab": {
          "base_uri": "https://localhost:8080/"
        },
        "id": "7CNmvVV_igcd",
        "outputId": "603cf8f2-58cc-4c59-e102-283903026131"
      },
      "execution_count": 7,
      "outputs": [
        {
          "output_type": "stream",
          "name": "stdout",
          "text": [
            "['Apple']\n"
          ]
        }
      ]
    },
    {
      "cell_type": "code",
      "source": [
        " newlist = [i for i in list1 if \"A\" in i]\n",
        "print(newlist)\n",
        ""
      ],
      "metadata": {
        "colab": {
          "base_uri": "https://localhost:8080/"
        },
        "id": "AHi42wuAveIN",
        "outputId": "ce6ade5c-0fb9-4078-a0a7-b8584d1c8d0b"
      },
      "execution_count": 11,
      "outputs": [
        {
          "output_type": "stream",
          "name": "stdout",
          "text": [
            "['Apple']\n"
          ]
        }
      ]
    },
    {
      "cell_type": "code",
      "source": [
        "list1 = [\"Apple\",\"Banana\",\"Mangoe\",\"Cherries\"]\n",
        "list1.sort()\n",
        "print(list1)"
      ],
      "metadata": {
        "colab": {
          "base_uri": "https://localhost:8080/"
        },
        "id": "ja7nAT9OzGJE",
        "outputId": "1f7b16bf-3c27-4158-c4dd-dcd7b1b81003"
      },
      "execution_count": 12,
      "outputs": [
        {
          "output_type": "stream",
          "name": "stdout",
          "text": [
            "['Apple', 'Banana', 'Cherries', 'Mangoe']\n"
          ]
        }
      ]
    },
    {
      "cell_type": "code",
      "source": [
        "list1 = [\"Apple\",\"Banana\",\"Mangoe\",\"Cherries\"]\n",
        "list1.sort(reverse = True)\n",
        "print(list1)"
      ],
      "metadata": {
        "colab": {
          "base_uri": "https://localhost:8080/"
        },
        "id": "6ppNgu_z1-iE",
        "outputId": "b4c1cdec-3a86-4088-d210-14062d5391fe"
      },
      "execution_count": 13,
      "outputs": [
        {
          "output_type": "stream",
          "name": "stdout",
          "text": [
            "['Mangoe', 'Cherries', 'Banana', 'Apple']\n"
          ]
        }
      ]
    },
    {
      "cell_type": "code",
      "source": [
        "a = [5,50,8,19,36]\n",
        "a.sort()\n",
        "print(a)"
      ],
      "metadata": {
        "colab": {
          "base_uri": "https://localhost:8080/"
        },
        "id": "CF50wSZR3Lyu",
        "outputId": "ec149589-27da-4adc-8cf5-81291e4012d5"
      },
      "execution_count": 14,
      "outputs": [
        {
          "output_type": "stream",
          "name": "stdout",
          "text": [
            "[5, 8, 19, 36, 50]\n"
          ]
        }
      ]
    },
    {
      "cell_type": "code",
      "source": [
        "list1 = [\"Apple\",\"Banana\",\"Mangoe\",\"Cherries\"]\n",
        "list2 = list1.copy()\n",
        "print(list2)"
      ],
      "metadata": {
        "colab": {
          "base_uri": "https://localhost:8080/"
        },
        "id": "uBQZi8Hu33sk",
        "outputId": "9f9e77f2-8b6d-4910-a549-918fb5286fc7"
      },
      "execution_count": 15,
      "outputs": [
        {
          "output_type": "stream",
          "name": "stdout",
          "text": [
            "['Apple', 'Banana', 'Mangoe', 'Cherries']\n"
          ]
        }
      ]
    }
  ]
}