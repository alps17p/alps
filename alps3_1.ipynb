{
  "nbformat": 4,
  "nbformat_minor": 0,
  "metadata": {
    "colab": {
      "provenance": [],
      "authorship_tag": "ABX9TyMbJWjI8oBIPVO9oi8gtNHJ",
      "include_colab_link": true
    },
    "kernelspec": {
      "name": "python3",
      "display_name": "Python 3"
    },
    "language_info": {
      "name": "python"
    }
  },
  "cells": [
    {
      "cell_type": "markdown",
      "metadata": {
        "id": "view-in-github",
        "colab_type": "text"
      },
      "source": [
        "<a href=\"https://colab.research.google.com/github/alps17p/alps/blob/main/alps3_1.ipynb\" target=\"_parent\"><img src=\"https://colab.research.google.com/assets/colab-badge.svg\" alt=\"Open In Colab\"/></a>"
      ]
    },
    {
      "cell_type": "code",
      "execution_count": 16,
      "metadata": {
        "id": "abcY4VEIsRAj",
        "colab": {
          "base_uri": "https://localhost:8080/"
        },
        "outputId": "e32e7862-a89c-4014-e41b-82c8e5d84680"
      },
      "outputs": [
        {
          "output_type": "stream",
          "name": "stdout",
          "text": [
            "('UK', 'US', 'US', 'Germany')\n"
          ]
        }
      ],
      "source": [
        "set1 = (\"UK\",\"US\",\"US\",\"Germany\")\n",
        "print(set1)"
      ]
    },
    {
      "cell_type": "code",
      "source": [
        "# we cannot have duplicates\n",
        "\n",
        "set1 = {\"UK\",\"US\",\"Germany\",\"Germany\"}\n",
        "print(set1)"
      ],
      "metadata": {
        "colab": {
          "base_uri": "https://localhost:8080/"
        },
        "id": "cvMtJ8PV0ABX",
        "outputId": "ef5f659a-6e1f-4a9f-9dd2-14363962e012"
      },
      "execution_count": 15,
      "outputs": [
        {
          "output_type": "stream",
          "name": "stdout",
          "text": [
            "{'Germany', 'UK', 'US'}\n"
          ]
        }
      ]
    },
    {
      "cell_type": "code",
      "source": [
        "set1 = {\"UK\",\"US\",\"US\"}\n",
        "print(len(set1))"
      ],
      "metadata": {
        "colab": {
          "base_uri": "https://localhost:8080/"
        },
        "id": "RSePnHJ25L_G",
        "outputId": "15ee1535-2bdf-47a1-8194-9961500f4363"
      },
      "execution_count": 17,
      "outputs": [
        {
          "output_type": "stream",
          "name": "stdout",
          "text": [
            "2\n"
          ]
        }
      ]
    },
    {
      "cell_type": "code",
      "source": [
        "type(set1)"
      ],
      "metadata": {
        "colab": {
          "base_uri": "https://localhost:8080/"
        },
        "id": "xfSV-7_B-SFU",
        "outputId": "751798be-8c11-4b94-8e3c-cf315ca6141d"
      },
      "execution_count": 18,
      "outputs": [
        {
          "output_type": "execute_result",
          "data": {
            "text/plain": [
              "set"
            ]
          },
          "metadata": {},
          "execution_count": 18
        }
      ]
    },
    {
      "cell_type": "code",
      "source": [
        "set1 = set((\"UK\",\"US\",\"Germany\"))\n",
        "print(set1)"
      ],
      "metadata": {
        "colab": {
          "base_uri": "https://localhost:8080/"
        },
        "id": "bbQ7wWUiBwl3",
        "outputId": "46ba6d27-0d9e-4b92-ff7c-bbacc29326a9"
      },
      "execution_count": 19,
      "outputs": [
        {
          "output_type": "stream",
          "name": "stdout",
          "text": [
            "{'Germany', 'UK', 'US'}\n"
          ]
        }
      ]
    },
    {
      "cell_type": "code",
      "source": [
        "set1 = {\"UK\",\"US\",\"Germany\"}\n",
        "set2 = {10,20,30,40}\n",
        "# union()\n",
        "set3 = set1.union(set2)\n",
        "print(set3)"
      ],
      "metadata": {
        "colab": {
          "base_uri": "https://localhost:8080/"
        },
        "id": "-a5sTVteCq6h",
        "outputId": "bde77e9e-8561-449d-af98-08a522b993b1"
      },
      "execution_count": 21,
      "outputs": [
        {
          "output_type": "stream",
          "name": "stdout",
          "text": [
            "{'Germany', 20, 'US', 40, 'UK', 10, 30}\n"
          ]
        }
      ]
    },
    {
      "cell_type": "code",
      "source": [
        "set1 = {\"UK\",\"US\",\"Germany\"}\n",
        "set2 = {10,20,30,40}\n",
        "# update()\n",
        "set1.update(set2)\n",
        "print(set1)"
      ],
      "metadata": {
        "colab": {
          "base_uri": "https://localhost:8080/"
        },
        "id": "9hef0T8fFH47",
        "outputId": "15ea9cfd-0acb-444e-c6e1-c2b646082250"
      },
      "execution_count": 22,
      "outputs": [
        {
          "output_type": "stream",
          "name": "stdout",
          "text": [
            "{'Germany', 20, 'US', 40, 'UK', 10, 30}\n"
          ]
        }
      ]
    },
    {
      "cell_type": "code",
      "source": [],
      "metadata": {
        "id": "np8vLwKzH-2H"
      },
      "execution_count": null,
      "outputs": []
    }
  ]
}