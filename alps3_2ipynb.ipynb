{
  "nbformat": 4,
  "nbformat_minor": 0,
  "metadata": {
    "colab": {
      "provenance": [],
      "authorship_tag": "ABX9TyOs2aYOpg/x7MGEAPG1edWd",
      "include_colab_link": true
    },
    "kernelspec": {
      "name": "python3",
      "display_name": "Python 3"
    },
    "language_info": {
      "name": "python"
    }
  },
  "cells": [
    {
      "cell_type": "markdown",
      "metadata": {
        "id": "view-in-github",
        "colab_type": "text"
      },
      "source": [
        "<a href=\"https://colab.research.google.com/github/alps17p/alps/blob/main/alps3_2ipynb.ipynb\" target=\"_parent\"><img src=\"https://colab.research.google.com/assets/colab-badge.svg\" alt=\"Open In Colab\"/></a>"
      ]
    },
    {
      "cell_type": "code",
      "execution_count": 1,
      "metadata": {
        "colab": {
          "base_uri": "https://localhost:8080/"
        },
        "id": "hYo7xliVuJAo",
        "outputId": "13df53bf-ad25-40a5-ccf7-293bd12fc04a"
      },
      "outputs": [
        {
          "output_type": "stream",
          "name": "stdout",
          "text": [
            "{'Germany'}\n"
          ]
        }
      ],
      "source": [
        "# I just have to keep only duplicate values\n",
        "set1 = {\"UK\",\"US\",\"Germany\"}\n",
        "set2 = {\"KSA\",\"Italy\",\"Germany\",\"India\"}\n",
        "\n",
        "set1.intersection_update(set2)\n",
        "\n",
        "print(set1)"
      ]
    },
    {
      "cell_type": "code",
      "source": [
        "set1 = {\"UK\",\"US\",\"Germany\"}\n",
        "set2 = {\"KSA\",\"Italy\", \"Germany\",\"India\"}\n",
        "\n",
        "set3 = set1.intersection(set2)\n",
        "print(set3)"
      ],
      "metadata": {
        "colab": {
          "base_uri": "https://localhost:8080/"
        },
        "id": "4-uqjyCKzPfJ",
        "outputId": "f101b5c5-a1bd-4a89-8186-b31fdd7e6747"
      },
      "execution_count": 2,
      "outputs": [
        {
          "output_type": "stream",
          "name": "stdout",
          "text": [
            "{'Germany'}\n"
          ]
        }
      ]
    },
    {
      "cell_type": "code",
      "source": [
        "set1 = {\"UK\",\"US\",\"Germany\"}\n",
        "set2 = {\"KSA\",\"Italy\",\"Germany\",\"India\"}\n",
        "\n",
        "set1.symmetric_difference_update(set2)\n",
        "print(set1)"
      ],
      "metadata": {
        "colab": {
          "base_uri": "https://localhost:8080/"
        },
        "id": "AL45UuQu21Bg",
        "outputId": "89eb8026-6c78-41aa-b290-f0d3e36eb926"
      },
      "execution_count": 3,
      "outputs": [
        {
          "output_type": "stream",
          "name": "stdout",
          "text": [
            "{'India', 'KSA', 'US', 'UK', 'Italy'}\n"
          ]
        }
      ]
    },
    {
      "cell_type": "code",
      "source": [
        "team1 = {\"Tom\",\"Alice\",\"John\"}\n",
        "team2 = {\"Ally\",\"Marry\",\"Alice\",\"Jerry\"}\n",
        "\n",
        "team3 = team1.symmetric_difference(team2)\n",
        "print(team3)"
      ],
      "metadata": {
        "colab": {
          "base_uri": "https://localhost:8080/"
        },
        "id": "7jiujNUG6Gyw",
        "outputId": "17e0a707-e57d-4236-b915-9dfe67471f49"
      },
      "execution_count": 4,
      "outputs": [
        {
          "output_type": "stream",
          "name": "stdout",
          "text": [
            "{'Marry', 'John', 'Ally', 'Jerry', 'Tom'}\n"
          ]
        }
      ]
    },
    {
      "cell_type": "code",
      "source": [
        "team1 = {\"Tom\",\"Alice\",\"John\"}\n",
        "\n",
        "for i in team1:\n",
        "  print(i)\n"
      ],
      "metadata": {
        "colab": {
          "base_uri": "https://localhost:8080/"
        },
        "id": "ThdHH9nX_SB8",
        "outputId": "3a09fa29-5d0e-48ce-90bb-2b2319a6e615"
      },
      "execution_count": 5,
      "outputs": [
        {
          "output_type": "stream",
          "name": "stdout",
          "text": [
            "Alice\n",
            "Tom\n",
            "John\n"
          ]
        }
      ]
    },
    {
      "cell_type": "code",
      "source": [],
      "metadata": {
        "id": "fPUZBWAQ0YmB"
      },
      "execution_count": null,
      "outputs": []
    }
  ]
}