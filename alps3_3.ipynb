{
  "nbformat": 4,
  "nbformat_minor": 0,
  "metadata": {
    "colab": {
      "provenance": [],
      "authorship_tag": "ABX9TyPtQ7GiUdanjm92t6k0gZ2S",
      "include_colab_link": true
    },
    "kernelspec": {
      "name": "python3",
      "display_name": "Python 3"
    },
    "language_info": {
      "name": "python"
    }
  },
  "cells": [
    {
      "cell_type": "markdown",
      "metadata": {
        "id": "view-in-github",
        "colab_type": "text"
      },
      "source": [
        "<a href=\"https://colab.research.google.com/github/alps17p/alps/blob/main/alps3_3.ipynb\" target=\"_parent\"><img src=\"https://colab.research.google.com/assets/colab-badge.svg\" alt=\"Open In Colab\"/></a>"
      ]
    },
    {
      "cell_type": "code",
      "execution_count": 1,
      "metadata": {
        "colab": {
          "base_uri": "https://localhost:8080/"
        },
        "id": "iUxogpyWVtBZ",
        "outputId": "cd4cbc4f-2db6-4245-f7ae-660630c1e0b1"
      },
      "outputs": [
        {
          "output_type": "stream",
          "name": "stdout",
          "text": [
            "{'name': 'Alice', 'Age': 22, 'city': 'Milan'}\n"
          ]
        }
      ],
      "source": [
        "# Data Dictionaries\n",
        "# Python version 3.7 they are ordered, but 3.6 they are unordered.\n",
        "# key : values\n",
        "d1 = {\"name\": \"Alice\", \"Age\": 22, \"city\": \"Milan\"}\n",
        "print(d1)"
      ]
    },
    {
      "cell_type": "code",
      "source": [
        "print(d1[\"name\"])"
      ],
      "metadata": {
        "colab": {
          "base_uri": "https://localhost:8080/"
        },
        "id": "-cPIf4hyYu_t",
        "outputId": "2f4d7698-bacd-47a1-8295-326fb54fb591"
      },
      "execution_count": 2,
      "outputs": [
        {
          "output_type": "stream",
          "name": "stdout",
          "text": [
            "Alice\n"
          ]
        }
      ]
    },
    {
      "cell_type": "code",
      "source": [
        "print(type(d1))"
      ],
      "metadata": {
        "colab": {
          "base_uri": "https://localhost:8080/"
        },
        "id": "JmJbC2UHZu5Z",
        "outputId": "15f68ecf-451f-4de1-b02d-ac4acdab941c"
      },
      "execution_count": 6,
      "outputs": [
        {
          "output_type": "stream",
          "name": "stdout",
          "text": [
            "<class 'dict'>\n"
          ]
        }
      ]
    },
    {
      "cell_type": "code",
      "source": [
        "d1 = {\"name\": \"Alice\", \"Age\": 22, \"city\": \"Milan\",\"city\": \"Brisbane\",\"city\":\"Melbourne\"}\n",
        "print(d1)"
      ],
      "metadata": {
        "colab": {
          "base_uri": "https://localhost:8080/"
        },
        "id": "4NnAGGwrbfSz",
        "outputId": "b8444c46-0355-44a6-a673-368c7a755b65"
      },
      "execution_count": 8,
      "outputs": [
        {
          "output_type": "stream",
          "name": "stdout",
          "text": [
            "{'name': 'Alice', 'Age': 22, 'city': 'Melbourne'}\n"
          ]
        }
      ]
    },
    {
      "cell_type": "code",
      "source": [
        "d1 = {\"name\": \"Alice\",\"Age\": 22, \"city\": \"Milan\"}\n",
        "print(len(d1))"
      ],
      "metadata": {
        "colab": {
          "base_uri": "https://localhost:8080/"
        },
        "id": "Zvp0FWd9enuP",
        "outputId": "abd19d8a-b9e2-4078-bf96-a20ad02a690d"
      },
      "execution_count": 9,
      "outputs": [
        {
          "output_type": "stream",
          "name": "stdout",
          "text": [
            "3\n"
          ]
        }
      ]
    },
    {
      "cell_type": "code",
      "source": [
        "d1 = {\"name\": \"Alice\",\"Age\": 22, \"city\":\"Milan\" }\n",
        "ky = d1.keys()\n",
        "#print(ky)\n",
        "\n",
        "for k in ky:\n",
        "  print(k)"
      ],
      "metadata": {
        "colab": {
          "base_uri": "https://localhost:8080/"
        },
        "id": "5HkVpM-vgpIn",
        "outputId": "8871847f-cc6f-47f1-d641-7018917d22c7"
      },
      "execution_count": 11,
      "outputs": [
        {
          "output_type": "stream",
          "name": "stdout",
          "text": [
            "name\n",
            "Age\n",
            "city\n"
          ]
        }
      ]
    },
    {
      "cell_type": "code",
      "source": [
        "# dict constructor\n",
        "d1 = dict(name =\"Alice\",age = 22)\n",
        "print(d1)"
      ],
      "metadata": {
        "colab": {
          "base_uri": "https://localhost:8080/"
        },
        "id": "vZZnQq2ir0HF",
        "outputId": "95338729-6032-4755-8ee1-f35e447d31bf"
      },
      "execution_count": 12,
      "outputs": [
        {
          "output_type": "stream",
          "name": "stdout",
          "text": [
            "{'name': 'Alice', 'age': 22}\n"
          ]
        }
      ]
    },
    {
      "cell_type": "code",
      "source": [
        "d1 = {\"name\": \"Alice\",\"age\": 22,\"city\": \"Milan\",\"Rollno\":\"AD0001234\"}\n",
        "print(d1)\n",
        "\n",
        "d1[\"name\"] = \"Merry\"\n",
        "print(d1)"
      ],
      "metadata": {
        "colab": {
          "base_uri": "https://localhost:8080/"
        },
        "id": "76x_bhLpvqUl",
        "outputId": "48a6caca-1125-4003-a314-056d6e856e98"
      },
      "execution_count": 13,
      "outputs": [
        {
          "output_type": "stream",
          "name": "stdout",
          "text": [
            "{'name': 'Alice', 'age': 22, 'city': 'Milan', 'Rollno': 'AD0001234'}\n",
            "{'name': 'Merry', 'age': 22, 'city': 'Milan', 'Rollno': 'AD0001234'}\n"
          ]
        }
      ]
    },
    {
      "cell_type": "code",
      "source": [
        "# using Update\n",
        "d1 = {\"name\": \"Alice\", \"age\":22, \"city\": \"Milan\"}\n",
        "print(d1)\n",
        "\n",
        "d1.update({\"city\": \"Berlin\"})\n",
        "print(d1)"
      ],
      "metadata": {
        "colab": {
          "base_uri": "https://localhost:8080/"
        },
        "id": "icpaPsiqzYHW",
        "outputId": "7d45c67d-dab1-4cfc-cdac-96ce8c4acadc"
      },
      "execution_count": 21,
      "outputs": [
        {
          "output_type": "stream",
          "name": "stdout",
          "text": [
            "{'name': 'Alice', 'age': 22, 'city': 'Milan'}\n",
            "{'name': 'Alice', 'age': 22, 'city': 'Berlin'}\n"
          ]
        }
      ]
    },
    {
      "cell_type": "code",
      "source": [],
      "metadata": {
        "id": "EJiYEN0gqddZ"
      },
      "execution_count": null,
      "outputs": []
    }
  ]
}