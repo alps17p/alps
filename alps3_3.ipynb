{
  "nbformat": 4,
  "nbformat_minor": 0,
  "metadata": {
    "colab": {
      "provenance": [],
      "authorship_tag": "ABX9TyOS7vOyErTNmbN35sGW4i2b",
      "include_colab_link": true
    },
    "kernelspec": {
      "name": "python3",
      "display_name": "Python 3"
    },
    "language_info": {
      "name": "python"
    }
  },
  "cells": [
    {
      "cell_type": "markdown",
      "metadata": {
        "id": "view-in-github",
        "colab_type": "text"
      },
      "source": [
        "<a href=\"https://colab.research.google.com/github/alps17p/alps/blob/main/alps3_3.ipynb\" target=\"_parent\"><img src=\"https://colab.research.google.com/assets/colab-badge.svg\" alt=\"Open In Colab\"/></a>"
      ]
    },
    {
      "cell_type": "code",
      "execution_count": 1,
      "metadata": {
        "colab": {
          "base_uri": "https://localhost:8080/"
        },
        "id": "j5AN198ylqaH",
        "outputId": "053d7cc7-9170-4834-ed64-eddba518a4d5"
      },
      "outputs": [
        {
          "output_type": "stream",
          "name": "stdout",
          "text": [
            "{'name': 'Alice', 'Age': 22, 'city': 'milan'}\n"
          ]
        }
      ],
      "source": [
        "# Data Dictionaries\n",
        "# python version 3.7 they are ordered, but 3.6 they are unordered\n",
        "# key : values\n",
        "d1 = {\"name\": \"Alice\", \"Age\": 22, \"city\": \"milan\"}\n",
        "print(d1)"
      ]
    },
    {
      "cell_type": "code",
      "source": [
        "print(d1[\"name\"])"
      ],
      "metadata": {
        "colab": {
          "base_uri": "https://localhost:8080/"
        },
        "id": "ume7SV1GntwT",
        "outputId": "7fd20e22-a867-4f1a-c5a0-b396fd43c962"
      },
      "execution_count": 2,
      "outputs": [
        {
          "output_type": "stream",
          "name": "stdout",
          "text": [
            "Alice\n"
          ]
        }
      ]
    },
    {
      "cell_type": "code",
      "source": [
        "d1 = {\"name\": \"Alice\",\"Age\": 22, \"city\" : \"milan\"}\n",
        "print(len(d1))"
      ],
      "metadata": {
        "colab": {
          "base_uri": "https://localhost:8080/"
        },
        "id": "Z482EhGnppMT",
        "outputId": "f4288a9f-1023-48f7-b5e3-aa2b645fe81b"
      },
      "execution_count": 3,
      "outputs": [
        {
          "output_type": "stream",
          "name": "stdout",
          "text": [
            "3\n"
          ]
        }
      ]
    },
    {
      "cell_type": "code",
      "source": [
        "d1 = {\"name\": \"Alice\", \"Age\": 22, \"city\": \"milan\", \"city\": \"London\", \"city\":\"Melbourne\"}\n",
        "print(d1)"
      ],
      "metadata": {
        "colab": {
          "base_uri": "https://localhost:8080/"
        },
        "id": "D0BdHuFCrDX_",
        "outputId": "dbf354eb-779c-44c2-d19c-1c3540f94f83"
      },
      "execution_count": 4,
      "outputs": [
        {
          "output_type": "stream",
          "name": "stdout",
          "text": [
            "{'name': 'Alice', 'Age': 22, 'city': 'Melbourne'}\n"
          ]
        }
      ]
    },
    {
      "cell_type": "code",
      "source": [],
      "metadata": {
        "id": "mUdk6CsFuSAa"
      },
      "execution_count": null,
      "outputs": []
    }
  ]
}