{
  "nbformat": 4,
  "nbformat_minor": 0,
  "metadata": {
    "colab": {
      "provenance": [],
      "authorship_tag": "ABX9TyNX+n8sBOpJM/DaB8Y3bJl0",
      "include_colab_link": true
    },
    "kernelspec": {
      "name": "python3",
      "display_name": "Python 3"
    },
    "language_info": {
      "name": "python"
    }
  },
  "cells": [
    {
      "cell_type": "markdown",
      "metadata": {
        "id": "view-in-github",
        "colab_type": "text"
      },
      "source": [
        "<a href=\"https://colab.research.google.com/github/alps17p/alps/blob/main/alps3_4.ipynb\" target=\"_parent\"><img src=\"https://colab.research.google.com/assets/colab-badge.svg\" alt=\"Open In Colab\"/></a>"
      ]
    },
    {
      "cell_type": "code",
      "execution_count": 2,
      "metadata": {
        "colab": {
          "base_uri": "https://localhost:8080/"
        },
        "id": "f_FG_Kw4uvn4",
        "outputId": "01eaf2f3-a1d6-4be4-8364-8c09441c6e31"
      },
      "outputs": [
        {
          "output_type": "stream",
          "name": "stdout",
          "text": [
            "{'name': 'Alice', 'Age': 22, 'city': 'milan', 'Rollno': 'ADOO001234'}\n",
            "{'name': 'Alice', 'Age': 22, 'city': 'Berlin', 'Rollno': 'ADOO001234'}\n"
          ]
        }
      ],
      "source": [
        "# Using update\n",
        "d1 = {\"name\":\"Alice\",\"Age\": 22,\"city\":\"milan\",\"Rollno\":\"ADOO001234\"}\n",
        "print(d1)\n",
        "\n",
        "d1.update({\"city\":\"Berlin\"})\n",
        "print(d1)"
      ]
    },
    {
      "cell_type": "code",
      "source": [],
      "metadata": {
        "id": "jWBMbdmwAGgy"
      },
      "execution_count": null,
      "outputs": []
    },
    {
      "cell_type": "code",
      "execution_count": 3,
      "metadata": {
        "colab": {
          "base_uri": "https://localhost:8080/"
        },
        "outputId": "38d2c86e-c948-4f3d-fd72-ba42e3eec49f",
        "id": "esicwfY21YoN"
      },
      "outputs": [
        {
          "output_type": "stream",
          "name": "stdout",
          "text": [
            "{'name': 'Alice', 'Age': 22, 'city': 'milan', 'Rollno': 'ADOO001234'}\n",
            "{'name': 'Alice', 'Age': 22, 'city': 'milan', 'Rollno': 'ADOO001234', 'Grade': 'A'}\n"
          ]
        }
      ],
      "source": [
        "# Using update\n",
        "d1 = {\"name\":\"Alice\",\"Age\": 22,\"city\":\"milan\",\"Rollno\":\"ADOO001234\"}\n",
        "print(d1)\n",
        "\n",
        "d1[\"Grade\"] = \"A\"\n",
        "print(d1)"
      ]
    },
    {
      "cell_type": "code",
      "execution_count": 5,
      "metadata": {
        "colab": {
          "base_uri": "https://localhost:8080/"
        },
        "outputId": "acc2ae9c-ee54-41b4-ca01-e10b914960b1",
        "id": "liCmjEUs2ugS"
      },
      "outputs": [
        {
          "output_type": "stream",
          "name": "stdout",
          "text": [
            "{'name': 'Alice', 'Age': 22, 'city': 'milan', 'Rollno': 'ADOO001234'}\n",
            "{'name': 'Alice', 'Age': 22, 'city': 'milan', 'Rollno': 'ADOO001234', 'Grade': 'B'}\n"
          ]
        }
      ],
      "source": [
        "# Using update\n",
        "d1 = {\"name\":\"Alice\",\"Age\": 22,\"city\":\"milan\",\"Rollno\":\"ADOO001234\"}\n",
        "print(d1)\n",
        "\n",
        "d1.update({\"Grade\":\"B\"})\n",
        "print(d1)"
      ]
    },
    {
      "cell_type": "code",
      "source": [
        "\n",
        "d1 = {\"name\":\"Alice\",\"Age\": 22,\"city\":\"milan\",\"Rollno\":\"ADOO001234\"}\n",
        "print(d1)\n",
        "d1.pop(\"Age\")\n",
        "print(d1)"
      ],
      "metadata": {
        "colab": {
          "base_uri": "https://localhost:8080/"
        },
        "id": "D7PZgIkV6OCn",
        "outputId": "6e052b6b-a0b6-465e-abd5-5fc49bd2af5d"
      },
      "execution_count": 6,
      "outputs": [
        {
          "output_type": "stream",
          "name": "stdout",
          "text": [
            "{'name': 'Alice', 'Age': 22, 'city': 'milan', 'Rollno': 'ADOO001234'}\n",
            "{'name': 'Alice', 'city': 'milan', 'Rollno': 'ADOO001234'}\n"
          ]
        }
      ]
    },
    {
      "cell_type": "code",
      "source": [
        "d1 = {\"name\":\"Alice\",\"Age\": 22,\"city\":\"milan\",\"Rollno\":\"ADOO001234\"}\n",
        "print(d1)\n",
        "del d1[\"Age\"]\n",
        "print(d1)"
      ],
      "metadata": {
        "colab": {
          "base_uri": "https://localhost:8080/"
        },
        "id": "Fn1041GVBZ_K",
        "outputId": "8babad42-d337-461e-f952-8c2a35b5a175"
      },
      "execution_count": 7,
      "outputs": [
        {
          "output_type": "stream",
          "name": "stdout",
          "text": [
            "{'name': 'Alice', 'Age': 22, 'city': 'milan', 'Rollno': 'ADOO001234'}\n",
            "{'name': 'Alice', 'city': 'milan', 'Rollno': 'ADOO001234'}\n"
          ]
        }
      ]
    },
    {
      "cell_type": "code",
      "source": [
        "d1 = {\"name\":\"Alice\",\"Age\": 22,\"city\":\"milan\",\"Rollno\":\"ADOO001234\"}\n",
        "print(d1)\n",
        "\n",
        "d1.clear()\n",
        "print(d1)"
      ],
      "metadata": {
        "colab": {
          "base_uri": "https://localhost:8080/"
        },
        "id": "udVr37PFDffF",
        "outputId": "61d91d0c-fe94-4066-bdd1-ad970a25b20b"
      },
      "execution_count": 8,
      "outputs": [
        {
          "output_type": "stream",
          "name": "stdout",
          "text": [
            "{'name': 'Alice', 'Age': 22, 'city': 'milan', 'Rollno': 'ADOO001234'}\n",
            "{}\n"
          ]
        }
      ]
    },
    {
      "cell_type": "code",
      "source": [
        "d1 = {\"name\":\"Alice\",\"Age\": 22,\"city\":\"milan\",\"Rollno\":\"ADOO001234\"}\n",
        "\n",
        "for i in d1:\n",
        "  print(i)"
      ],
      "metadata": {
        "colab": {
          "base_uri": "https://localhost:8080/"
        },
        "id": "A55vIq2CFtCn",
        "outputId": "7c3d0168-e049-42a7-9754-b10845fab1d2"
      },
      "execution_count": 9,
      "outputs": [
        {
          "output_type": "stream",
          "name": "stdout",
          "text": [
            "name\n",
            "Age\n",
            "city\n",
            "Rollno\n"
          ]
        }
      ]
    },
    {
      "cell_type": "code",
      "source": [
        "d1 = {\"name\":\"Alice\",\"Age\": 22,\"city\":\"milan\",\"Rollno\":\"ADOO001234\"}\n",
        "for i in d1.values():\n",
        "  print(i)"
      ],
      "metadata": {
        "colab": {
          "base_uri": "https://localhost:8080/"
        },
        "id": "s9pfJ0p-G_je",
        "outputId": "a883e20a-9918-45c0-ecac-e08936a94e9c"
      },
      "execution_count": 10,
      "outputs": [
        {
          "output_type": "stream",
          "name": "stdout",
          "text": [
            "Alice\n",
            "22\n",
            "milan\n",
            "ADOO001234\n"
          ]
        }
      ]
    },
    {
      "cell_type": "code",
      "source": [],
      "metadata": {
        "id": "xmJnR6zlHqQs"
      },
      "execution_count": null,
      "outputs": []
    }
  ]
}