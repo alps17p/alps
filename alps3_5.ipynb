{
  "nbformat": 4,
  "nbformat_minor": 0,
  "metadata": {
    "colab": {
      "provenance": [],
      "authorship_tag": "ABX9TyOdPxbmXioD0hXn5AbHmmC2",
      "include_colab_link": true
    },
    "kernelspec": {
      "name": "python3",
      "display_name": "Python 3"
    },
    "language_info": {
      "name": "python"
    }
  },
  "cells": [
    {
      "cell_type": "markdown",
      "metadata": {
        "id": "view-in-github",
        "colab_type": "text"
      },
      "source": [
        "<a href=\"https://colab.research.google.com/github/alps17p/alps/blob/main/alps3_5.ipynb\" target=\"_parent\"><img src=\"https://colab.research.google.com/assets/colab-badge.svg\" alt=\"Open In Colab\"/></a>"
      ]
    },
    {
      "cell_type": "code",
      "execution_count": 1,
      "metadata": {
        "colab": {
          "base_uri": "https://localhost:8080/"
        },
        "id": "HGMaA-wC961h",
        "outputId": "122bf934-283c-4fcd-829e-04840a8b02de"
      },
      "outputs": [
        {
          "output_type": "stream",
          "name": "stdout",
          "text": [
            "{'name': 'Alice', 'Age': 22, 'Designation': 'Manager'}\n"
          ]
        }
      ],
      "source": [
        "d1 = {\"name\": \"Alice\", \"Age\": 22, \"Designation\": \"Manager\" }\n",
        "\n",
        "d2 = d1.copy()\n",
        "print(d2)"
      ]
    },
    {
      "cell_type": "code",
      "source": [
        "d = {\"d1\":{\"name\": \"Alice\", \"Age\": 22},\"d2\":{\"name\": \"Alice\", \"Age\": 22},\"d3\":{\"name\": \"Alice\", \"Age\": 22}}\n",
        "print(d)"
      ],
      "metadata": {
        "colab": {
          "base_uri": "https://localhost:8080/"
        },
        "id": "hYfhzw--AslU",
        "outputId": "bf39c442-3f11-467b-e3ec-30de43baf445"
      },
      "execution_count": 4,
      "outputs": [
        {
          "output_type": "stream",
          "name": "stdout",
          "text": [
            "{'d1': {'name': 'Alice', 'Age': 22}, 'd2': {'name': 'Alice', 'Age': 22}, 'd3': {'name': 'Alice', 'Age': 22}}\n"
          ]
        }
      ]
    },
    {
      "cell_type": "code",
      "source": [
        "# function\n",
        "def Myfirstfunction():\n",
        "  print(\"This is our 3rd week\")\n",
        "Myfirstfunction()  #calling"
      ],
      "metadata": {
        "colab": {
          "base_uri": "https://localhost:8080/"
        },
        "id": "V_qj_tjWHYnV",
        "outputId": "359c7f02-a9f8-4ae7-e701-5d2058177ee3"
      },
      "execution_count": 6,
      "outputs": [
        {
          "output_type": "stream",
          "name": "stdout",
          "text": [
            "This is our 3rd week\n"
          ]
        }
      ]
    },
    {
      "cell_type": "code",
      "source": [
        "def Mysecondfunction(name):\n",
        "  print(name + \" is a good student\")\n",
        "\n",
        "Mysecondfunction(\"Alice\")"
      ],
      "metadata": {
        "colab": {
          "base_uri": "https://localhost:8080/"
        },
        "id": "0tgEzGO5P8J7",
        "outputId": "ae9345d1-23cd-41e5-a6ff-b2098980d640"
      },
      "execution_count": 8,
      "outputs": [
        {
          "output_type": "stream",
          "name": "stdout",
          "text": [
            "Alice is a good student\n"
          ]
        }
      ]
    },
    {
      "cell_type": "code",
      "source": [],
      "metadata": {
        "id": "7BJToK2GRcvk"
      },
      "execution_count": null,
      "outputs": []
    }
  ]
}