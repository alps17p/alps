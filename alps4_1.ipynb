{
  "nbformat": 4,
  "nbformat_minor": 0,
  "metadata": {
    "colab": {
      "provenance": [],
      "authorship_tag": "ABX9TyNGAc+JtaFiS9gW/gGQXSva",
      "include_colab_link": true
    },
    "kernelspec": {
      "name": "python3",
      "display_name": "Python 3"
    },
    "language_info": {
      "name": "python"
    }
  },
  "cells": [
    {
      "cell_type": "markdown",
      "metadata": {
        "id": "view-in-github",
        "colab_type": "text"
      },
      "source": [
        "<a href=\"https://colab.research.google.com/github/alps17p/alps/blob/main/alps4_1.ipynb\" target=\"_parent\"><img src=\"https://colab.research.google.com/assets/colab-badge.svg\" alt=\"Open In Colab\"/></a>"
      ]
    },
    {
      "cell_type": "code",
      "execution_count": 3,
      "metadata": {
        "colab": {
          "base_uri": "https://localhost:8080/"
        },
        "id": "mR9o2nyvBcQl",
        "outputId": "671b9d9c-9f99-4841-d2d4-3713cf0f38ea"
      },
      "outputs": [
        {
          "output_type": "stream",
          "name": "stdout",
          "text": [
            "Hello,this is my first function\n"
          ]
        }
      ],
      "source": [
        "def Introduction():\n",
        "  print(\"Hello,this is my first function\")\n",
        "Introduction() # calling the function"
      ]
    },
    {
      "cell_type": "code",
      "source": [
        "def Introduction(firstname):\n",
        "  print(firstname + \" this is my name\")\n",
        "Introduction(\"Alice\")"
      ],
      "metadata": {
        "colab": {
          "base_uri": "https://localhost:8080/"
        },
        "id": "vyq9ftnZC9Wj",
        "outputId": "025f5a59-64ba-465d-a816-6f51c2de2a19"
      },
      "execution_count": 6,
      "outputs": [
        {
          "output_type": "stream",
          "name": "stdout",
          "text": [
            "Alice this is my name\n"
          ]
        }
      ]
    },
    {
      "cell_type": "code",
      "source": [
        "def Introducion(firstname, lastname):\n",
        "  print(firstname)\n",
        "  print(lastname)\n",
        "Introducion(\"Alice\", \"Alter\")"
      ],
      "metadata": {
        "colab": {
          "base_uri": "https://localhost:8080/"
        },
        "id": "avR5N6tEIaK7",
        "outputId": "ff2249bb-a68f-44e0-9410-4dba7f6f82b8"
      },
      "execution_count": 8,
      "outputs": [
        {
          "output_type": "stream",
          "name": "stdout",
          "text": [
            "Alice\n",
            "Alter\n"
          ]
        }
      ]
    },
    {
      "cell_type": "code",
      "source": [
        "def Introducion(firstname, lastname = \" \"):\n",
        "  print(firstname)\n",
        "  print(lastname)\n",
        "Introduction(\"Alice\", \" \")"
      ],
      "metadata": {
        "id": "6WXdCqohS0JC"
      },
      "execution_count": null,
      "outputs": []
    },
    {
      "cell_type": "code",
      "source": [],
      "metadata": {
        "id": "X7chsSDXXPVH"
      },
      "execution_count": null,
      "outputs": []
    }
  ]
}