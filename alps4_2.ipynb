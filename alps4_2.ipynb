{
  "nbformat": 4,
  "nbformat_minor": 0,
  "metadata": {
    "colab": {
      "provenance": [],
      "authorship_tag": "ABX9TyNjOOhFArvKEknLswCsF8U0",
      "include_colab_link": true
    },
    "kernelspec": {
      "name": "python3",
      "display_name": "Python 3"
    },
    "language_info": {
      "name": "python"
    }
  },
  "cells": [
    {
      "cell_type": "markdown",
      "metadata": {
        "id": "view-in-github",
        "colab_type": "text"
      },
      "source": [
        "<a href=\"https://colab.research.google.com/github/alps17p/alps/blob/main/alps4_2.ipynb\" target=\"_parent\"><img src=\"https://colab.research.google.com/assets/colab-badge.svg\" alt=\"Open In Colab\"/></a>"
      ]
    },
    {
      "cell_type": "code",
      "execution_count": 2,
      "metadata": {
        "colab": {
          "base_uri": "https://localhost:8080/"
        },
        "id": "XNd4_FTeUZ4_",
        "outputId": "8bbf646e-a0e8-4d47-c992-7bb5e459463e"
      },
      "outputs": [
        {
          "output_type": "stream",
          "name": "stdout",
          "text": [
            "Alice\n",
            " \n"
          ]
        }
      ],
      "source": [
        "def Introduction(firstname, lastname = \" \"):\n",
        "  print(firstname)\n",
        "  print(lastname)\n",
        "Introduction(\"Alice\")"
      ]
    },
    {
      "cell_type": "code",
      "source": [
        "def add_num(num1, num2):\n",
        "  sum = num1 + num2\n",
        "result = add_num(5, 3)\n",
        "print(\"The sum is:\",result)"
      ],
      "metadata": {
        "colab": {
          "base_uri": "https://localhost:8080/"
        },
        "id": "9jrvQnKDWyzz",
        "outputId": "90c7578d-7029-4fc7-e2d0-29ce43457ccc"
      },
      "execution_count": 14,
      "outputs": [
        {
          "output_type": "stream",
          "name": "stdout",
          "text": [
            "The sum is: None\n"
          ]
        }
      ]
    },
    {
      "cell_type": "code",
      "source": [
        "def add_num(num1, num2):\n",
        "  sum = num1 + num2\n",
        "  return sum\n",
        "\n",
        "result = add_num(5, 3)\n",
        "print(\"The sum is:\",result)"
      ],
      "metadata": {
        "colab": {
          "base_uri": "https://localhost:8080/"
        },
        "id": "ZceIoYqNg02w",
        "outputId": "9c28454a-b048-44f9-8480-35a536cf3c38"
      },
      "execution_count": 13,
      "outputs": [
        {
          "output_type": "stream",
          "name": "stdout",
          "text": [
            "The sum is: 8\n"
          ]
        }
      ]
    },
    {
      "cell_type": "code",
      "source": [
        "def Calculator():\n",
        "\n",
        "  num1 = float (input(\"Enter the 1st number :\"))\n",
        "  num2 = float (input(\"Enter the 2nd number :\"))\n",
        "\n",
        "  # addition\n",
        "  result = num1 + num2\n",
        "  print(\"The sum of the two number is:\",result)\n",
        "\n",
        "  # subtraction\n",
        "  result = num1 - num2\n",
        "  print(\"The difference of the two number is:\",result)\n",
        "\n",
        "  # multiply\n",
        "  result = num1 * num2\n",
        "  print(\"The multiplication of the two number is:\",result)\n",
        "\n",
        "  # divide\n",
        "  result = num1 / num2\n",
        "  print(\"The quotient is:\",result)\n",
        "Calculator()\n"
      ],
      "metadata": {
        "colab": {
          "base_uri": "https://localhost:8080/"
        },
        "id": "uhlQ2axDhlaf",
        "outputId": "70e8fcc8-f221-445e-a9a6-7b6d055199b6"
      },
      "execution_count": 19,
      "outputs": [
        {
          "output_type": "stream",
          "name": "stdout",
          "text": [
            "Enter the 1st number :4\n",
            "Enter the 2nd number :2\n",
            "The sum of the two number is: 6.0\n",
            "The difference of the two number is: 2.0\n",
            "The multiplication of the two number is: 8.0\n",
            "The quotient is: 2.0\n"
          ]
        }
      ]
    },
    {
      "cell_type": "code",
      "source": [],
      "metadata": {
        "id": "uehaRdQ003Cg"
      },
      "execution_count": null,
      "outputs": []
    }
  ]
}