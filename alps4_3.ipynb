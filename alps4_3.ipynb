{
  "nbformat": 4,
  "nbformat_minor": 0,
  "metadata": {
    "colab": {
      "provenance": [],
      "authorship_tag": "ABX9TyNpbxfPmk/1jtfF6nfpBIVG",
      "include_colab_link": true
    },
    "kernelspec": {
      "name": "python3",
      "display_name": "Python 3"
    },
    "language_info": {
      "name": "python"
    }
  },
  "cells": [
    {
      "cell_type": "markdown",
      "metadata": {
        "id": "view-in-github",
        "colab_type": "text"
      },
      "source": [
        "<a href=\"https://colab.research.google.com/github/alps17p/alps/blob/main/alps4_3.ipynb\" target=\"_parent\"><img src=\"https://colab.research.google.com/assets/colab-badge.svg\" alt=\"Open In Colab\"/></a>"
      ]
    },
    {
      "cell_type": "code",
      "execution_count": 7,
      "metadata": {
        "colab": {
          "base_uri": "https://localhost:8080/"
        },
        "id": "ROA6k85kSNhy",
        "outputId": "8bf15090-5baa-4944-877f-a4c62e00514b"
      },
      "outputs": [
        {
          "output_type": "stream",
          "name": "stdout",
          "text": [
            "Enter the first name: alice\n",
            "Enter the last name: ALTER\n",
            "Student name is:  Alice Alter\n"
          ]
        }
      ],
      "source": [
        "# We can use built in function in user-defined function\n",
        "# Let user enter first name and last name in any form(capital,small,fusion)\n",
        "# Output : alice ALTER ----> Alice Alter\n",
        "\n",
        "def format_name():\n",
        "  first_name = input(\"Enter the first name: \")\n",
        "  last_name = input(\"Enter the last name: \")\n",
        "\n",
        "  format_first_name = first_name.capitalize()\n",
        "  format_last_name = last_name.capitalize()\n",
        "\n",
        "  print(\"Student name is: \", format_first_name, format_last_name)\n",
        "\n",
        "format_name()"
      ]
    },
    {
      "cell_type": "code",
      "source": [
        "def print_even_numbers():\n",
        "  n = int(input(\"Enter the number: \"))\n",
        "  even_numbers = []\n",
        "  for num in range(1, n + 1):\n",
        "       if num % 2 == 0:\n",
        "          even_numbers.append(num)\n",
        "  print(\"Even numbers up to\" ,n, \"are\",even_numbers)\n",
        "\n",
        "print_even_numbers()"
      ],
      "metadata": {
        "colab": {
          "base_uri": "https://localhost:8080/"
        },
        "id": "Q_7aclhda4UT",
        "outputId": "497b1b06-04bd-4eee-c82a-859126136ce5"
      },
      "execution_count": 12,
      "outputs": [
        {
          "output_type": "stream",
          "name": "stdout",
          "text": [
            "Enter the number: 20\n",
            "Even numbers up to 20 are [2, 4, 6, 8, 10, 12, 14, 16, 18, 20]\n"
          ]
        }
      ]
    },
    {
      "cell_type": "code",
      "source": [],
      "metadata": {
        "id": "oh2ZmtgbZuwU"
      },
      "execution_count": null,
      "outputs": []
    }
  ]
}