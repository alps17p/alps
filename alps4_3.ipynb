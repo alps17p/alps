{
  "nbformat": 4,
  "nbformat_minor": 0,
  "metadata": {
    "colab": {
      "provenance": [],
      "authorship_tag": "ABX9TyOM5+AadlLsXokwj4HmbSaB",
      "include_colab_link": true
    },
    "kernelspec": {
      "name": "python3",
      "display_name": "Python 3"
    },
    "language_info": {
      "name": "python"
    }
  },
  "cells": [
    {
      "cell_type": "markdown",
      "metadata": {
        "id": "view-in-github",
        "colab_type": "text"
      },
      "source": [
        "<a href=\"https://colab.research.google.com/github/alps17p/alps/blob/main/alps4_3.ipynb\" target=\"_parent\"><img src=\"https://colab.research.google.com/assets/colab-badge.svg\" alt=\"Open In Colab\"/></a>"
      ]
    },
    {
      "cell_type": "code",
      "execution_count": 10,
      "metadata": {
        "colab": {
          "base_uri": "https://localhost:8080/"
        },
        "id": "e0KWtsbS8sVD",
        "outputId": "9c2be2b5-97d1-41ae-eed7-ec7573d096cf"
      },
      "outputs": [
        {
          "output_type": "stream",
          "name": "stdout",
          "text": [
            "Enter the 1st number:4\n",
            "Enter the 2nd number:2\n",
            "The sum of two numbers is: 6.0\n",
            "The difference of two numbers is: 2.0\n",
            "The product is: 8.0\n",
            "The quotient is: 2.0\n"
          ]
        }
      ],
      "source": [
        "def calculator():\n",
        "  num1 = float(input(\"Enter the 1st number:\"))\n",
        "  num2 = float(input(\"Enter the 2nd number:\"))\n",
        "\n",
        "  # Addition\n",
        "  sum_result = num1 + num2\n",
        "\n",
        "  # Subtraction\n",
        "  diff_result = num1 - num2\n",
        "\n",
        "  # Multiply\n",
        "  mult_result = num1 * num2\n",
        "\n",
        "  # Divide\n",
        "  div_result = num1 / num2\n",
        "\n",
        "  return{\n",
        "      \"sum\":sum_result,\n",
        "      \"diff\": diff_result,\n",
        "      \"product\": mult_result,\n",
        "      \"quotient\": div_result\n",
        "  }\n",
        "\n",
        "\n",
        "results = calculator()\n",
        "print(\"The sum of two numbers is:\",results[\"sum\"])\n",
        "print(\"The difference of two numbers is:\",results[\"diff\"])\n",
        "print(\"The product is:\",  results[\"product\"])\n",
        "print(\"The quotient is:\",results[\"quotient\"])"
      ]
    },
    {
      "cell_type": "code",
      "source": [],
      "metadata": {
        "id": "yFeP2ixiGIS4"
      },
      "execution_count": null,
      "outputs": []
    }
  ]
}