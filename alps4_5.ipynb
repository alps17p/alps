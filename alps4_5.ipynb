{
  "nbformat": 4,
  "nbformat_minor": 0,
  "metadata": {
    "colab": {
      "provenance": [],
      "authorship_tag": "ABX9TyORv4z1iPDj5c/lsOCGoFNJ",
      "include_colab_link": true
    },
    "kernelspec": {
      "name": "python3",
      "display_name": "Python 3"
    },
    "language_info": {
      "name": "python"
    }
  },
  "cells": [
    {
      "cell_type": "markdown",
      "metadata": {
        "id": "view-in-github",
        "colab_type": "text"
      },
      "source": [
        "<a href=\"https://colab.research.google.com/github/alps17p/alps/blob/main/alps4_5.ipynb\" target=\"_parent\"><img src=\"https://colab.research.google.com/assets/colab-badge.svg\" alt=\"Open In Colab\"/></a>"
      ]
    },
    {
      "cell_type": "code",
      "execution_count": null,
      "metadata": {
        "colab": {
          "base_uri": "https://localhost:8080/"
        },
        "id": "xSBcmILcnYwx",
        "outputId": "a87f17f0-e1eb-49bd-d00b-e6aa24d5d968"
      },
      "outputs": [
        {
          "output_type": "stream",
          "name": "stdout",
          "text": [
            "Enter the number:6\n",
            "36\n"
          ]
        }
      ],
      "source": [
        "f = lambda x : x * x\n",
        "num = int(input(\"Enter the number:\"))\n",
        "print(f(num))"
      ]
    },
    {
      "cell_type": "code",
      "source": [
        "add = lambda a , b: a + b\n",
        "num1 = int(input(\"Enter 1st number:\"))\n",
        "num2 = int(input(\"Enter 2nd number:\"))\n",
        "print(add(num1,num2))"
      ],
      "metadata": {
        "colab": {
          "base_uri": "https://localhost:8080/"
        },
        "id": "BmuvqoRcrPd9",
        "outputId": "846b1d93-3ac2-4cb0-8d25-114bb6c7c2de"
      },
      "execution_count": null,
      "outputs": [
        {
          "output_type": "stream",
          "name": "stdout",
          "text": [
            "Enter 1st number:6\n",
            "Enter 2nd number:4\n",
            "10\n"
          ]
        }
      ]
    },
    {
      "cell_type": "code",
      "source": [
        "add = lambda : int(input(\"Enter 1st number:\")) + int(input(\"Enter 2nd number:\"))\n",
        "print(add())"
      ],
      "metadata": {
        "colab": {
          "base_uri": "https://localhost:8080/"
        },
        "id": "YZCfk7vmulMX",
        "outputId": "e8cba124-320b-410c-ee63-d2e15ab03cb0"
      },
      "execution_count": null,
      "outputs": [
        {
          "output_type": "stream",
          "name": "stdout",
          "text": [
            "Enter 1st number:3\n",
            "Enter 2nd number:7\n",
            "10\n"
          ]
        }
      ]
    },
    {
      "cell_type": "code",
      "source": [
        "# list = [1,2,3,4,5]\n",
        "my_list_cal = lambda x: [ i ** 2 for i in x]\n",
        "print(my_list_cal([1,2,3,4,5]))"
      ],
      "metadata": {
        "colab": {
          "base_uri": "https://localhost:8080/"
        },
        "id": "D9WB_vFCyNHR",
        "outputId": "32c850ab-947c-4df9-cd94-91713eb39aea"
      },
      "execution_count": null,
      "outputs": [
        {
          "output_type": "stream",
          "name": "stdout",
          "text": [
            "[1, 4, 9, 16, 25]\n"
          ]
        }
      ]
    },
    {
      "cell_type": "code",
      "source": [
        "products = [{'name': 'phone','price': 10000},\n",
        "            {'name': 'printer','price':20000},\n",
        "            {'name': 'laptop', 'price':40000},\n",
        "            {'name': 'headphone','price':5000}]\n",
        "\n",
        "sorted_products = sorted(products, key = lambda x : x['price'])\n",
        "for products in sorted_products:\n",
        "  print(products)\n"
      ],
      "metadata": {
        "id": "8SA7gYA62lcS",
        "colab": {
          "base_uri": "https://localhost:8080/"
        },
        "outputId": "5166e1bc-862b-48e1-dfa1-6c07b588b721"
      },
      "execution_count": 6,
      "outputs": [
        {
          "output_type": "stream",
          "name": "stdout",
          "text": [
            "{'name': 'headphone', 'price': 5000}\n",
            "{'name': 'phone', 'price': 10000}\n",
            "{'name': 'printer', 'price': 20000}\n",
            "{'name': 'laptop', 'price': 40000}\n"
          ]
        }
      ]
    },
    {
      "cell_type": "code",
      "source": [],
      "metadata": {
        "id": "mepPLoFO1xQv"
      },
      "execution_count": null,
      "outputs": []
    },
    {
      "cell_type": "code",
      "source": [],
      "metadata": {
        "id": "2MwJ8OJIyAh4"
      },
      "execution_count": null,
      "outputs": []
    }
  ]
}