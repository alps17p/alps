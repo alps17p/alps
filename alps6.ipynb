{
  "nbformat": 4,
  "nbformat_minor": 0,
  "metadata": {
    "colab": {
      "provenance": [],
      "authorship_tag": "ABX9TyMe6IxIidM6f3t+hR7edZiv",
      "include_colab_link": true
    },
    "kernelspec": {
      "name": "python3",
      "display_name": "Python 3"
    },
    "language_info": {
      "name": "python"
    }
  },
  "cells": [
    {
      "cell_type": "markdown",
      "metadata": {
        "id": "view-in-github",
        "colab_type": "text"
      },
      "source": [
        "<a href=\"https://colab.research.google.com/github/alps17p/alps/blob/main/alps6.ipynb\" target=\"_parent\"><img src=\"https://colab.research.google.com/assets/colab-badge.svg\" alt=\"Open In Colab\"/></a>"
      ]
    },
    {
      "cell_type": "code",
      "execution_count": 3,
      "metadata": {
        "colab": {
          "base_uri": "https://localhost:8080/"
        },
        "id": "wdLjytrov3lY",
        "outputId": "a054c2ad-2bcd-4d6a-9a3a-bde44c6d20ca"
      },
      "outputs": [
        {
          "output_type": "stream",
          "name": "stdout",
          "text": [
            "sorry,due to age limitations You cannot drive\n"
          ]
        }
      ],
      "source": [
        "age = 17\n",
        "\n",
        "if age >= 18:\n",
        "  print(\"Congs,  You can drive\")\n",
        "else:\n",
        "  print(\"sorry,due to age limitations You cannot drive\")"
      ]
    },
    {
      "cell_type": "code",
      "source": [
        "score = 56\n",
        "\n",
        "if score >= 90:\n",
        "  print(\"Excellent Performance, Your Grade is A+\")\n",
        "elif score >=80:\n",
        "  print(\"Good Performance, Your Grade is A\")\n",
        "elif score >= 70:\n",
        "  print(\"Average Performance, Your Grade is B\")\n",
        "else:\n",
        "  print(\"Performance not Good, Your Grade is C\")"
      ],
      "metadata": {
        "colab": {
          "base_uri": "https://localhost:8080/"
        },
        "id": "ZPZkZQ5r1Dl3",
        "outputId": "8aa91079-11f1-4dc4-e563-420b66d93faf"
      },
      "execution_count": 8,
      "outputs": [
        {
          "output_type": "stream",
          "name": "stdout",
          "text": [
            "Performance not Good, Your Grade is C\n"
          ]
        }
      ]
    },
    {
      "cell_type": "code",
      "source": [
        "# Finding largest number from three given numbers\n",
        "num1 = 100\n",
        "num2 = 820\n",
        "num3 = 930\n",
        "\n",
        "if (num1 >= num2) and (num1 >= num3):\n",
        "\n",
        "  largest = num1\n",
        "  print(\"largest number is:\",largest)\n",
        "elif (num2 >= num1) and (num2 >= num3):\n",
        "  largest = num2\n",
        "  print(\"largest number is:\",largest)\n",
        "else :\n",
        "  largest = num3\n",
        "  print(\"largest number is:\",largest)"
      ],
      "metadata": {
        "colab": {
          "base_uri": "https://localhost:8080/"
        },
        "id": "Z2u8kGem4f8f",
        "outputId": "58740e87-aa91-4c1b-a89d-93113a753c19"
      },
      "execution_count": 14,
      "outputs": [
        {
          "output_type": "stream",
          "name": "stdout",
          "text": [
            "largest number is: 930\n"
          ]
        }
      ]
    },
    {
      "cell_type": "code",
      "source": [],
      "metadata": {
        "id": "JD9RNwLxGDki"
      },
      "execution_count": null,
      "outputs": []
    }
  ]
}