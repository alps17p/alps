{
  "nbformat": 4,
  "nbformat_minor": 0,
  "metadata": {
    "colab": {
      "provenance": [],
      "authorship_tag": "ABX9TyPOhelDV390JA6l0JtpY2IC",
      "include_colab_link": true
    },
    "kernelspec": {
      "name": "python3",
      "display_name": "Python 3"
    },
    "language_info": {
      "name": "python"
    }
  },
  "cells": [
    {
      "cell_type": "markdown",
      "metadata": {
        "id": "view-in-github",
        "colab_type": "text"
      },
      "source": [
        "<a href=\"https://colab.research.google.com/github/alps17p/alps/blob/main/alps6_2.ipynb\" target=\"_parent\"><img src=\"https://colab.research.google.com/assets/colab-badge.svg\" alt=\"Open In Colab\"/></a>"
      ]
    },
    {
      "cell_type": "code",
      "execution_count": 9,
      "metadata": {
        "colab": {
          "base_uri": "https://localhost:8080/"
        },
        "id": "KDhI5VDCJOpU",
        "outputId": "bd23c3cd-743b-4749-da74-353e88f6ca15"
      },
      "outputs": [
        {
          "output_type": "stream",
          "name": "stdout",
          "text": [
            "Enter num1: 66\n",
            "Enter num2: 3\n",
            "Results 22.0\n"
          ]
        }
      ],
      "source": [
        "try:\n",
        "   n = int(input(\"Enter num1: \"))\n",
        "   d = int(input(\"Enter num2: \"))\n",
        "\n",
        "   result = n / d\n",
        "   print(\"Results\",result)\n",
        "\n",
        "except ZeroDivisionError:\n",
        "   print(\"You have divided the number by zero\")\n",
        "\n",
        "except ValueError:\n",
        "  print(\"It's integer but you have entered float\")\n"
      ]
    },
    {
      "cell_type": "code",
      "source": [
        "# Type error\n",
        "\n",
        "try:\n",
        "  x = \"10\"\n",
        "  y = 20\n",
        "  z = x + y\n",
        "  print(z)\n",
        "\n",
        "except TypeError:\n",
        "  print(\"Data type mismatch\")"
      ],
      "metadata": {
        "colab": {
          "base_uri": "https://localhost:8080/"
        },
        "id": "UaNjvYhyKhfK",
        "outputId": "5f6ae0ed-5a2e-407c-cde2-bde4a61d8c66"
      },
      "execution_count": 10,
      "outputs": [
        {
          "output_type": "stream",
          "name": "stdout",
          "text": [
            "Data type mismatch\n"
          ]
        }
      ]
    },
    {
      "cell_type": "code",
      "source": [
        "try:\n",
        "  list1 = [1,2,3,4]\n",
        "  print(list1[4])\n",
        "\n",
        "except IndexError:\n",
        "  print(\"Wrong Index\")\n",
        ""
      ],
      "metadata": {
        "colab": {
          "base_uri": "https://localhost:8080/"
        },
        "id": "Dj-5YKQPqFjA",
        "outputId": "7cc6ce19-e719-4b56-f804-e4799a085c63"
      },
      "execution_count": 11,
      "outputs": [
        {
          "output_type": "stream",
          "name": "stdout",
          "text": [
            "Wrong Index\n"
          ]
        }
      ]
    },
    {
      "cell_type": "code",
      "source": [
        "try:\n",
        "  my_dictionary = { \"name\": \"Alice\", \"age\": 22 }\n",
        "  print(my_dictionary[\"city\"])\n",
        "\n",
        "except KeyError:\n",
        "  print(\"key not found\")"
      ],
      "metadata": {
        "colab": {
          "base_uri": "https://localhost:8080/"
        },
        "id": "l89HHVV9uIHh",
        "outputId": "47f2b964-fc4f-4a3e-dbce-15fd740f8598"
      },
      "execution_count": 12,
      "outputs": [
        {
          "output_type": "stream",
          "name": "stdout",
          "text": [
            "key not found\n"
          ]
        }
      ]
    }
  ]
}