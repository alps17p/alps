{
  "nbformat": 4,
  "nbformat_minor": 0,
  "metadata": {
    "colab": {
      "provenance": [],
      "authorship_tag": "ABX9TyPpfgymV9MTIh5C49glucPQ",
      "include_colab_link": true
    },
    "kernelspec": {
      "name": "python3",
      "display_name": "Python 3"
    },
    "language_info": {
      "name": "python"
    }
  },
  "cells": [
    {
      "cell_type": "markdown",
      "metadata": {
        "id": "view-in-github",
        "colab_type": "text"
      },
      "source": [
        "<a href=\"https://colab.research.google.com/github/alps17p/alps/blob/main/alps6_3.ipynb\" target=\"_parent\"><img src=\"https://colab.research.google.com/assets/colab-badge.svg\" alt=\"Open In Colab\"/></a>"
      ]
    },
    {
      "cell_type": "code",
      "execution_count": 2,
      "metadata": {
        "colab": {
          "base_uri": "https://localhost:8080/"
        },
        "id": "-epKGl3KC5Kz",
        "outputId": "379f56d4-3a02-459e-8489-ee2288bac993"
      },
      "outputs": [
        {
          "output_type": "stream",
          "name": "stdout",
          "text": [
            "File you are looking for is not there\n"
          ]
        }
      ],
      "source": [
        "# file not found Error\n",
        "try:\n",
        "   file_location = \"my_file.txt\"\n",
        "\n",
        "   with open(file_location,\"r\")as file:\n",
        "    contents = file.read()\n",
        "\n",
        "except FileNotFoundError:\n",
        "  print(\"File you are looking for is not there\")\n",
        ""
      ]
    },
    {
      "cell_type": "code",
      "source": [
        "try:\n",
        "   file_location = \"file123.txt\"\n",
        "\n",
        "   with open(file_location,\"w\")as file:\n",
        "    contents = file.read()\n",
        "\n",
        "except IOError: # Input Output Error\n",
        "  print(f\"unable to write this file '{file_location}'.\")"
      ],
      "metadata": {
        "colab": {
          "base_uri": "https://localhost:8080/"
        },
        "id": "yEIdzuNrOP24",
        "outputId": "3d0425bd-3a5b-4b2b-f988-cc7213a73ada"
      },
      "execution_count": 4,
      "outputs": [
        {
          "output_type": "stream",
          "name": "stdout",
          "text": [
            "unable to write this file 'file123.txt'.\n"
          ]
        }
      ]
    },
    {
      "cell_type": "code",
      "source": [
        "try:\n",
        "  import library12345 # math\n",
        "\n",
        "except ImportError:\n",
        "  print(\"Particular Library missing\")"
      ],
      "metadata": {
        "colab": {
          "base_uri": "https://localhost:8080/"
        },
        "id": "MBgsFbAiX4u4",
        "outputId": "204674ca-50ab-48e4-d6d4-efbfbc7c57f6"
      },
      "execution_count": 5,
      "outputs": [
        {
          "output_type": "stream",
          "name": "stdout",
          "text": [
            "Particular Library missing\n"
          ]
        }
      ]
    },
    {
      "cell_type": "code",
      "source": [],
      "metadata": {
        "id": "2HQ75ssJZibq"
      },
      "execution_count": null,
      "outputs": []
    },
    {
      "cell_type": "code",
      "source": [],
      "metadata": {
        "id": "g6jKwLDaSFIH"
      },
      "execution_count": null,
      "outputs": []
    }
  ]
}