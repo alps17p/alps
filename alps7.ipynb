{
  "nbformat": 4,
  "nbformat_minor": 0,
  "metadata": {
    "colab": {
      "provenance": [],
      "authorship_tag": "ABX9TyMXlwhgG8ZkhE49spi8rebv",
      "include_colab_link": true
    },
    "kernelspec": {
      "name": "python3",
      "display_name": "Python 3"
    },
    "language_info": {
      "name": "python"
    }
  },
  "cells": [
    {
      "cell_type": "markdown",
      "metadata": {
        "id": "view-in-github",
        "colab_type": "text"
      },
      "source": [
        "<a href=\"https://colab.research.google.com/github/alps17p/alps/blob/main/alps7.ipynb\" target=\"_parent\"><img src=\"https://colab.research.google.com/assets/colab-badge.svg\" alt=\"Open In Colab\"/></a>"
      ]
    },
    {
      "cell_type": "code",
      "execution_count": 6,
      "metadata": {
        "colab": {
          "base_uri": "https://localhost:8080/"
        },
        "id": "fv-oZN4xzQsm",
        "outputId": "43c66ed3-6198-4d6e-f4c6-bb4a67927ea3"
      },
      "outputs": [
        {
          "output_type": "stream",
          "name": "stdout",
          "text": [
            "Please enter 1st number:2289\n",
            "Please enter 2nd number:2490\n",
            "Please enter 3rd number:3599\n",
            "largest number is: 3599.0\n"
          ]
        }
      ],
      "source": [
        "num1 = float(input(\"Please enter 1st number:\"))\n",
        "num2 = float(input(\"Please enter 2nd number:\"))\n",
        "num3 = float(input(\"Please enter 3rd number:\"))\n",
        "\n",
        "if (num1 >= num2) and (num1 >= num3):\n",
        "  largest = num1\n",
        "  print(\"largest number is:\",largest)\n",
        "elif (num2 >= num1) and (num2 >= num3):\n",
        "  largest = num2\n",
        "  print(\"largest number is:\",largest)\n",
        "else:\n",
        "  largest = num3\n",
        "  print(\"largest number is:\",largest)"
      ]
    },
    {
      "cell_type": "code",
      "source": [
        "# let us make a simple calculator which takes the choice of operation from user\n",
        "# Also user enter two numbers which needed to be computed\n",
        "choice = input(\"Enter your choice(add/sub/mul):\")\n",
        "num1 = float(input(\"Please enter 1st number:\"))\n",
        "num2 = float(input(\"Please enter 2nd number:\"))\n",
        "if choice == \"add\":\n",
        "  print(num1,\"+\",num2,\"=\", num1 + num2)\n",
        "\n",
        "elif choice == \"sub\":\n",
        "  print(num1,\"-\",num2,\"=\", num1 - num2)\n",
        "elif choice == \"mul\":\n",
        "  print(num1,\"*\",num2,\"=\", num1 * num2)\n",
        "else:\n",
        "  print(\"wrong choice\")\n",
        ""
      ],
      "metadata": {
        "colab": {
          "base_uri": "https://localhost:8080/"
        },
        "id": "g1SbSKKO7Ytc",
        "outputId": "ff7d008c-f17c-4c85-b626-e46fd0db1730"
      },
      "execution_count": 8,
      "outputs": [
        {
          "output_type": "stream",
          "name": "stdout",
          "text": [
            "Enter your choice(add/sub/mul):mul\n",
            "Please enter 1st number:7\n",
            "Please enter 2nd number:8\n",
            "7.0 * 8.0 = 56.0\n"
          ]
        }
      ]
    },
    {
      "cell_type": "code",
      "source": [],
      "metadata": {
        "id": "toCUqSjBW1BR"
      },
      "execution_count": null,
      "outputs": []
    }
  ]
}