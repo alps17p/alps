{
  "nbformat": 4,
  "nbformat_minor": 0,
  "metadata": {
    "colab": {
      "provenance": [],
      "authorship_tag": "ABX9TyPTvz1r/dhgy3Yfuli+hFzk",
      "include_colab_link": true
    },
    "kernelspec": {
      "name": "python3",
      "display_name": "Python 3"
    },
    "language_info": {
      "name": "python"
    }
  },
  "cells": [
    {
      "cell_type": "markdown",
      "metadata": {
        "id": "view-in-github",
        "colab_type": "text"
      },
      "source": [
        "<a href=\"https://colab.research.google.com/github/alps17p/alps/blob/main/alps8.ipynb\" target=\"_parent\"><img src=\"https://colab.research.google.com/assets/colab-badge.svg\" alt=\"Open In Colab\"/></a>"
      ]
    },
    {
      "cell_type": "code",
      "execution_count": 7,
      "metadata": {
        "colab": {
          "base_uri": "https://localhost:8080/"
        },
        "id": "4GTKuSMq_8_c",
        "outputId": "a008b5c4-4978-4db9-edcc-985f15e51af8"
      },
      "outputs": [
        {
          "output_type": "stream",
          "name": "stdout",
          "text": [
            "Enter your designation:executive\n",
            "salary = 30,000-40,000\n"
          ]
        }
      ],
      "source": [
        "designation = input(\"Enter your designation:\")\n",
        "if designation == \"executive\":\n",
        "  print(\"salary\",\"=\",\"30,000-40,000\")\n",
        "elif designation == \"manager\":\n",
        "  print(\"salary\",\"=\",\"60,000-90,000\")\n",
        "elif designation == \"senior manager\":\n",
        "  print(\"salary\",\"=\",\"120,000-160,000\")\n",
        "else:\n",
        "  print(\"wrong designation\")"
      ]
    },
    {
      "cell_type": "code",
      "source": [],
      "metadata": {
        "id": "E3Ft4BZ_EIct"
      },
      "execution_count": null,
      "outputs": []
    }
  ]
}